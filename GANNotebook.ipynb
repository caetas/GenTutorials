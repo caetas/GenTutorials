{
 "cells": [
  {
   "cell_type": "markdown",
   "metadata": {},
   "source": [
    "# Generative Adversarial Networks"
   ]
  },
  {
   "cell_type": "code",
   "execution_count": 159,
   "metadata": {},
   "outputs": [],
   "source": [
    "import torch\n",
    "from torch import nn\n",
    "import matplotlib.pyplot as plt\n",
    "from tqdm import tqdm, trange\n",
    "from torch.utils.data import DataLoader\n",
    "from torchvision import datasets, transforms\n",
    "from torchvision.utils import make_grid"
   ]
  },
  {
   "cell_type": "code",
   "execution_count": 176,
   "metadata": {},
   "outputs": [
    {
     "data": {
      "image/png": "[encoded data removed]",
      "text/plain": [
       "<Figure size 600x600 with 1 Axes>"
      ]
     },
     "metadata": {},
     "output_type": "display_data"
    },
    {
     "ename": "",
     "evalue": "",
     "output_type": "error",
     "traceback": [
      "\u001b[1;31mThe Kernel crashed while executing code in the current cell or a previous cell. \n",
      "\u001b[1;31mPlease review the code in the cell(s) to identify a possible cause of the failure. \n",
      "\u001b[1;31mClick <a href='https://aka.ms/vscodeJupyterKernelCrash'>here</a> for more info. \n",
      "\u001b[1;31mView Jupyter <a href='command:jupyter.viewOutput'>log</a> for further details."
     ]
    }
   ],
   "source": [
    "def mnist_dataloader(batch_size=128, digit=5):\n",
    "    '''\n",
    "    Create a DataLoader for the MNIST dataset.\n",
    "    Args:\n",
    "        batch_size: int: The batch size to use.\n",
    "    Returns:\n",
    "        DataLoader: The DataLoader for the MNIST dataset.\n",
    "    '''\n",
    "    transform = transforms.Compose([\n",
    "        transforms.ToTensor(),\n",
    "        transforms.Resize((14, 14), interpolation=0),\n",
    "        transforms.Normalize((0.5,), (0.5,)),\n",
    "        transforms.Lambda(lambda x: x.view(-1))\n",
    "    ])\n",
    "    dataset = datasets.MNIST(root='./data', train=True, transform=transform, download=True)\n",
    "    dataset.data = dataset.data[dataset.targets == digit]\n",
    "    dataloader = DataLoader(dataset, batch_size=batch_size, shuffle=True)\n",
    "    return dataloader\n",
    "\n",
    "\n",
    "def plot_dataset(X, verbose=True, **kwargs):\n",
    "    '''\n",
    "    Plot a 2D dataset.\n",
    "    Args:\n",
    "        X: torch.Tensor: The dataset to plot.\n",
    "        bins: int: The number of bins to use for the histogram.\n",
    "        ax: plt.Axes: The axes to plot on. If None, the current axes will be used.\n",
    "        verbose: bool: Whether to show the axis labels.\n",
    "        **kwargs: dict: Additional keyword arguments to pass to `ax.set`.\n",
    "    '''\n",
    "    # reshape the data to 14x14 images\n",
    "    X = X.view(-1, 14, 14)\n",
    "    # get 16 samples from the batch\n",
    "    X = X[:16].unsqueeze(1)\n",
    "    # make a grid of the images\n",
    "    grid = make_grid(X, nrow=4, normalize=True)\n",
    "    # plot the images\n",
    "    plt.imshow(grid.permute(1, 2, 0).numpy())\n",
    "    plt.axis('off')\n",
    "    plt.title(kwargs.get('title', ''))\n",
    "    plt.show()\n",
    "\n",
    "\n",
    "# Create the smiley face dataset and plot it.\n",
    "dataset = mnist_dataloader()\n",
    "X, _ = next(iter(dataset))\n",
    "fig = plt.figure(figsize=(6, 6))\n",
    "plot_dataset(X, title='MNIST Dataset')"
   ]
  },
  {
   "cell_type": "code",
   "execution_count": 170,
   "metadata": {},
   "outputs": [],
   "source": [
    "class Block(nn.Module):\n",
    "    def __init__(self, in_features, out_features, normalize=True):\n",
    "        '''\n",
    "        Create a block of an MLP.\n",
    "        Args:\n",
    "            in_features: int: The number of input features.\n",
    "            out_features: int: The number of output features.\n",
    "            normalize: bool: Whether to apply batch normalization.\n",
    "        '''\n",
    "        super().__init__()\n",
    "        layers = [nn.Linear(in_features, out_features)]\n",
    "        if normalize:\n",
    "            layers.append(nn.BatchNorm1d(out_features, 0.8))\n",
    "        layers.append(nn.LeakyReLU(0.2, inplace=True))\n",
    "        self.block = nn.Sequential(*layers)\n",
    "\n",
    "    def forward(self, X):\n",
    "        '''\n",
    "        Forward pass of the model.\n",
    "        Args:\n",
    "            X: torch.Tensor: The input features.\n",
    "        '''\n",
    "        return self.block(X)\n",
    "\n",
    "class Generator(nn.Module):\n",
    "    def __init__(self, image_size=14, latent_dim=8):\n",
    "        '''\n",
    "        Create an MLP to generate samples from a latent space.\n",
    "        Args:\n",
    "            n_features: int: The number of input and output features.\n",
    "            latent_dim: int: The dimensionality of the latent space.\n",
    "        '''\n",
    "        super().__init__()\n",
    "\n",
    "        \n",
    "        self.model = nn.Sequential(\n",
    "            Block(latent_dim, latent_dim*2, normalize=False),\n",
    "            Block(latent_dim*2, latent_dim*4),\n",
    "            Block(latent_dim*4, latent_dim*8),\n",
    "            Block(latent_dim*8, latent_dim*16),\n",
    "            nn.Linear(latent_dim*16, image_size*image_size),\n",
    "            nn.Tanh()\n",
    "        )\n",
    "\n",
    "\n",
    "    def forward(self, X):\n",
    "        '''\n",
    "        Forward pass of the model.\n",
    "        Args:\n",
    "            X: torch.Tensor: The input features.\n",
    "        '''\n",
    "        X = self.model(X)\n",
    "        return X\n",
    "    \n",
    "class Discriminator(nn.Module):\n",
    "    def __init__(self, image_size=14):\n",
    "        '''\n",
    "        Create an MLP to discriminate between real and generated samples.\n",
    "        Args:\n",
    "            n_features: int: The number of input and output features.\n",
    "            latent_dim: int: The dimensionality of the latent space.\n",
    "        '''\n",
    "        super().__init__()\n",
    "\n",
    "        self.model = nn.Sequential(\n",
    "            nn.Linear(image_size*image_size, 256),\n",
    "            nn.LeakyReLU(0.2, inplace=True),\n",
    "            nn.Linear(256, 128),\n",
    "            nn.LeakyReLU(0.2, inplace=True),\n",
    "            nn.Linear(128, 1),\n",
    "            nn.Sigmoid(),\n",
    "        )\n",
    "\n",
    "\n",
    "    def forward(self, X):\n",
    "        '''\n",
    "        Forward pass of the model.\n",
    "        Args:\n",
    "            X: torch.Tensor: The input features.\n",
    "        '''\n",
    "        X = self.model(X)\n",
    "        return X"
   ]
  },
  {
   "cell_type": "code",
   "execution_count": 173,
   "metadata": {},
   "outputs": [
    {
     "name": "stderr",
     "output_type": "stream",
     "text": [
      "Steps: 100%|██████████| 5000/5000 [02:13<00:00, 37.51it/s, loss_g=1.06, loss_d=0.437] \n"
     ]
    }
   ],
   "source": [
    "\n",
    "def training_loop(generator, discriminator, dataloader, lr, latent_dim, n_steps=5000):\n",
    "    '''\n",
    "    Train a model using the forward diffusion model.\n",
    "    Args:\n",
    "        model: nn.Module: The model to train.\n",
    "        forward: ForwardDiffusion: The forward diffusion model to use.\n",
    "        n_steps: int: The number of training steps to take.\n",
    "        batch_size: int: The number of samples in each batch.\n",
    "        lr: float: The learning rate to use.\n",
    "    '''\n",
    "    device = torch.device('cuda' if torch.cuda.is_available() else 'cpu')\n",
    "\n",
    "    optimizer_g = torch.optim.Adam(generator.parameters(), lr=lr, betas=(0.5, 0.999))\n",
    "    optimizer_d = torch.optim.Adam(discriminator.parameters(), lr=lr, betas=(0.5, 0.999))\n",
    "    loss_fn = nn.BCELoss()\n",
    "    \n",
    "    generator.to(device)\n",
    "    discriminator.to(device)\n",
    "    step_bar = trange(n_steps, desc='Steps')\n",
    "\n",
    "    for step in step_bar:\n",
    "\n",
    "        # Train the generator\n",
    "        optimizer_g.zero_grad()\n",
    "\n",
    "        batch = next(iter(dataloader))[0].to(device)\n",
    "        noise = torch.randn(batch.shape[0], latent_dim).to(device)\n",
    "        generated = generator(noise)\n",
    "        fake = discriminator(generated)\n",
    "        loss_g = loss_fn(fake, torch.ones_like(fake))\n",
    "        loss_g.backward()\n",
    "        optimizer_g.step()\n",
    "\n",
    "        # Train the discriminator\n",
    "        optimizer_d.zero_grad()\n",
    "        real = discriminator(batch)\n",
    "        fake = discriminator(generated.detach())\n",
    "        loss_d = (loss_fn(real, torch.ones_like(real)) + loss_fn(fake, torch.zeros_like(fake)))/2\n",
    "        loss_d.backward()\n",
    "        optimizer_d.step()\n",
    "\n",
    "        if step % 100 == 0:\n",
    "            step_bar.set_postfix({'loss_g': loss_g.item(), 'loss_d': loss_d.item()})\n",
    "            generator.train()\n",
    "            discriminator.train()\n",
    "\n",
    "latent_dim = 8\n",
    "generator = Generator(image_size=14, latent_dim=latent_dim)\n",
    "discriminator = Discriminator(image_size=14)\n",
    "training_loop(generator, discriminator, dataset, lr=1e-3, latent_dim=latent_dim)"
   ]
  },
  {
   "cell_type": "code",
   "execution_count": 175,
   "metadata": {},
   "outputs": [
    {
     "data": {
      "image/png": "[encoded data removed]",
      "text/plain": [
       "<Figure size 600x600 with 1 Axes>"
      ]
     },
     "metadata": {},
     "output_type": "display_data"
    }
   ],
   "source": [
    "@torch.no_grad()\n",
    "def sample(generator, n_samples, latent_dim=8, device='cpu'):\n",
    "    '''\n",
    "    Sample from the generator.\n",
    "    Args:\n",
    "        generator: nn.Module: The generator model.\n",
    "        n_samples: int: The number of samples to generate.\n",
    "    '''\n",
    "    generator.to(device).eval()\n",
    "    noise = torch.randn(n_samples, latent_dim).to(device)\n",
    "    generated = generator(noise)\n",
    "\n",
    "    plot_dataset(generated, title='Generated samples')\n",
    "    plt.show()\n",
    "# Sample from the generator and plot the results.\n",
    "fig = plt.figure(figsize=(6, 6))\n",
    "sample(generator, n_samples=24, latent_dim=latent_dim)"
   ]
  }
 ],
 "metadata": {
  "kernelspec": {
   "display_name": ".venv",
   "language": "python",
   "name": "python3"
  },
  "language_info": {
   "codemirror_mode": {
    "name": "ipython",
    "version": 3
   },
   "file_extension": ".py",
   "mimetype": "text/x-python",
   "name": "python",
   "nbconvert_exporter": "python",
   "pygments_lexer": "ipython3",
   "version": "3.9.19"
  }
 },
 "nbformat": 4,
 "nbformat_minor": 2
}
