{
 "cells": [
  {
   "cell_type": "code",
   "execution_count": 1,
   "metadata": {},
   "outputs": [
    {
     "name": "stderr",
     "output_type": "stream",
     "text": [
      "c:\\Users\\20236095\\disconet\\.venv\\lib\\site-packages\\tqdm\\auto.py:21: TqdmWarning: IProgress not found. Please update jupyter and ipywidgets. See https://ipywidgets.readthedocs.io/en/stable/user_install.html\n",
      "  from .autonotebook import tqdm as notebook_tqdm\n"
     ]
    }
   ],
   "source": [
    "import torch\n",
    "from torch import nn\n",
    "import matplotlib.pyplot as plt\n",
    "from tqdm import tqdm, trange\n",
    "from torch.utils.data import DataLoader\n",
    "from torchvision import datasets, transforms\n",
    "from torchvision.utils import make_grid"
   ]
  },
  {
   "cell_type": "code",
   "execution_count": 44,
   "metadata": {},
   "outputs": [
    {
     "data": {
      "image/png": "[encoded data removed]",
      "text/plain": [
       "<Figure size 600x600 with 1 Axes>"
      ]
     },
     "metadata": {},
     "output_type": "display_data"
    }
   ],
   "source": [
    "def mnist_dataloader(batch_size=128):\n",
    "    '''\n",
    "    Create a DataLoader for the MNIST dataset.\n",
    "    Args:\n",
    "        batch_size: int: The batch size to use.\n",
    "    Returns:\n",
    "        DataLoader: The DataLoader for the MNIST dataset.\n",
    "    '''\n",
    "    transform = transforms.Compose([\n",
    "        transforms.ToTensor(),\n",
    "        transforms.Resize((14, 14), interpolation=0),\n",
    "        transforms.Normalize((0.5,), (0.5,)),\n",
    "        transforms.Lambda(lambda x: x.view(-1))\n",
    "    ])\n",
    "    dataset = datasets.MNIST(root='./data', train=True, transform=transform, download=True)\n",
    "    dataloader = DataLoader(dataset, batch_size=batch_size, shuffle=True)\n",
    "    return dataloader\n",
    "\n",
    "\n",
    "def plot_dataset(X, verbose=True, **kwargs):\n",
    "    '''\n",
    "    Plot a 2D dataset.\n",
    "    Args:\n",
    "        X: torch.Tensor: The dataset to plot.\n",
    "        bins: int: The number of bins to use for the histogram.\n",
    "        ax: plt.Axes: The axes to plot on. If None, the current axes will be used.\n",
    "        verbose: bool: Whether to show the axis labels.\n",
    "        **kwargs: dict: Additional keyword arguments to pass to `ax.set`.\n",
    "    '''\n",
    "    # reshape the data to 14x14 images\n",
    "    X = X.view(-1, 14, 14)\n",
    "    # get 16 samples from the batch\n",
    "    X = X[:16].unsqueeze(1)\n",
    "    # make a grid of the images\n",
    "    grid = make_grid(X, nrow=4, normalize=True)\n",
    "    # plot the images\n",
    "    plt.imshow(grid.permute(1, 2, 0).numpy())\n",
    "    plt.axis('off')\n",
    "    plt.title(kwargs.get('title', ''))\n",
    "    plt.show()\n",
    "\n",
    "\n",
    "# Create the smiley face dataset and plot it.\n",
    "dataset = mnist_dataloader()\n",
    "X, _ = next(iter(dataset))\n",
    "fig = plt.figure(figsize=(6, 6))\n",
    "plot_dataset(X, title='MNIST Dataset')"
   ]
  },
  {
   "cell_type": "code",
   "execution_count": 45,
   "metadata": {},
   "outputs": [],
   "source": [
    "class Block(nn.Module):\n",
    "    def __init__(self, in_features, out_features, normalize=False):\n",
    "        '''\n",
    "        Create a block of an MLP.\n",
    "        Args:\n",
    "            in_features: int: The number of input features.\n",
    "            out_features: int: The number of output features.\n",
    "            normalize: bool: Whether to apply batch normalization.\n",
    "        '''\n",
    "        super().__init__()\n",
    "        layers = [nn.Linear(in_features, out_features)]\n",
    "        if normalize:\n",
    "            layers.append(nn.BatchNorm1d(out_features, 0.8))\n",
    "        layers.append(nn.ReLU(inplace=True))\n",
    "        self.block = nn.Sequential(*layers)\n",
    "\n",
    "    def forward(self, X):\n",
    "        '''\n",
    "        Forward pass of the model.\n",
    "        Args:\n",
    "            X: torch.Tensor: The input features.\n",
    "        '''\n",
    "        return self.block(X)\n",
    "\n",
    "class Encoder(nn.Module):\n",
    "    def __init__(self, image_size=14, latent_dim=8):\n",
    "        '''\n",
    "        Create an MLP to generate samples from a latent space.\n",
    "        Args:\n",
    "            n_features: int: The number of input and output features.\n",
    "            latent_dim: int: The dimensionality of the latent space.\n",
    "        '''\n",
    "        super().__init__()\n",
    "\n",
    "        \n",
    "        self.model = nn.Sequential(\n",
    "            Block(image_size*image_size, 32, normalize=False),\n",
    "            Block(32, 64),\n",
    "            Block(64, 128),\n",
    "        )\n",
    "\n",
    "\n",
    "    def forward(self, X):\n",
    "        '''\n",
    "        Forward pass of the model.\n",
    "        Args:\n",
    "            X: torch.Tensor: The input features.\n",
    "        '''\n",
    "        X = self.model(X)\n",
    "        return X\n",
    "    \n",
    "class Decoder(nn.Module):\n",
    "    def __init__(self, image_size=14, latent_dim=16):\n",
    "        '''\n",
    "        Create an MLP to generate samples from a latent space.\n",
    "        Args:\n",
    "            n_features: int: The number of input and output features.\n",
    "            latent_dim: int: The dimensionality of the latent space.\n",
    "        '''\n",
    "        super().__init__()\n",
    "\n",
    "        self.model = nn.Sequential(\n",
    "            Block(latent_dim, 128),\n",
    "            Block(128, 64),\n",
    "            Block(64, 32),\n",
    "            nn.Linear(32, image_size*image_size),\n",
    "            nn.Tanh()\n",
    "        )\n",
    "\n",
    "    def forward(self, X):\n",
    "        '''\n",
    "        Forward pass of the model.\n",
    "        Args:\n",
    "            X: torch.Tensor: The input features.\n",
    "        '''\n",
    "        X = self.model(X)\n",
    "        return X\n",
    "    \n",
    "class VariationalAutoEncoder(nn.Module):\n",
    "    def __init__(self, image_size=14, latent_dim=8):\n",
    "        '''\n",
    "        Create a VAE.\n",
    "        Args:\n",
    "            image_size: int: The size of the images.\n",
    "            latent_dim: int: The dimensionality of the latent space.\n",
    "        '''\n",
    "        super().__init__()\n",
    "        self.encoder = Encoder(image_size, latent_dim)\n",
    "        self.mu = nn.Linear(128, latent_dim)\n",
    "        self.logvar = nn.Linear(128, latent_dim)\n",
    "        self.decoder = Decoder(image_size, latent_dim)\n",
    "        self.latent_dim = latent_dim\n",
    "\n",
    "    def forward(self, X):\n",
    "        '''\n",
    "        Forward pass of the model.\n",
    "        Args:\n",
    "            X: torch.Tensor: The input features.\n",
    "        '''\n",
    "        X = self.encoder(X)\n",
    "        mu = self.mu(X)\n",
    "        logvar = self.logvar(X)\n",
    "        std = torch.exp(0.5*logvar)\n",
    "        eps = torch.randn_like(std)\n",
    "        X = mu + eps*std\n",
    "        X = self.decoder(X)\n",
    "        return X, mu, logvar"
   ]
  },
  {
   "cell_type": "code",
   "execution_count": 46,
   "metadata": {},
   "outputs": [
    {
     "name": "stderr",
     "output_type": "stream",
     "text": [
      " 10%|█         | 1/10 [00:11<01:43, 11.55s/it]"
     ]
    },
    {
     "name": "stdout",
     "output_type": "stream",
     "text": [
      "Epoch 1/10, Loss: 0.26030924916267395\n"
     ]
    },
    {
     "name": "stderr",
     "output_type": "stream",
     "text": [
      " 20%|██        | 2/10 [00:22<01:28, 11.11s/it]"
     ]
    },
    {
     "name": "stdout",
     "output_type": "stream",
     "text": [
      "Epoch 2/10, Loss: 0.24973885715007782\n"
     ]
    },
    {
     "name": "stderr",
     "output_type": "stream",
     "text": [
      " 30%|███       | 3/10 [00:33<01:17, 11.00s/it]"
     ]
    },
    {
     "name": "stdout",
     "output_type": "stream",
     "text": [
      "Epoch 3/10, Loss: 0.2564866244792938\n"
     ]
    },
    {
     "name": "stderr",
     "output_type": "stream",
     "text": [
      " 40%|████      | 4/10 [00:44<01:05, 11.00s/it]"
     ]
    },
    {
     "name": "stdout",
     "output_type": "stream",
     "text": [
      "Epoch 4/10, Loss: 0.2381441444158554\n"
     ]
    },
    {
     "name": "stderr",
     "output_type": "stream",
     "text": [
      " 50%|█████     | 5/10 [00:55<00:54, 10.98s/it]"
     ]
    },
    {
     "name": "stdout",
     "output_type": "stream",
     "text": [
      "Epoch 5/10, Loss: 0.2436450719833374\n"
     ]
    },
    {
     "name": "stderr",
     "output_type": "stream",
     "text": [
      " 60%|██████    | 6/10 [01:06<00:44, 11.09s/it]"
     ]
    },
    {
     "name": "stdout",
     "output_type": "stream",
     "text": [
      "Epoch 6/10, Loss: 0.2306874841451645\n"
     ]
    },
    {
     "name": "stderr",
     "output_type": "stream",
     "text": [
      " 70%|███████   | 7/10 [01:17<00:33, 11.12s/it]"
     ]
    },
    {
     "name": "stdout",
     "output_type": "stream",
     "text": [
      "Epoch 7/10, Loss: 0.21427148580551147\n"
     ]
    },
    {
     "name": "stderr",
     "output_type": "stream",
     "text": [
      " 80%|████████  | 8/10 [01:28<00:22, 11.09s/it]"
     ]
    },
    {
     "name": "stdout",
     "output_type": "stream",
     "text": [
      "Epoch 8/10, Loss: 0.20608776807785034\n"
     ]
    },
    {
     "name": "stderr",
     "output_type": "stream",
     "text": [
      " 90%|█████████ | 9/10 [01:39<00:11, 11.12s/it]"
     ]
    },
    {
     "name": "stdout",
     "output_type": "stream",
     "text": [
      "Epoch 9/10, Loss: 0.23343530297279358\n"
     ]
    },
    {
     "name": "stderr",
     "output_type": "stream",
     "text": [
      "100%|██████████| 10/10 [01:50<00:00, 11.09s/it]"
     ]
    },
    {
     "name": "stdout",
     "output_type": "stream",
     "text": [
      "Epoch 10/10, Loss: 0.21771913766860962\n"
     ]
    },
    {
     "name": "stderr",
     "output_type": "stream",
     "text": [
      "\n"
     ]
    }
   ],
   "source": [
    "def kl_loss(mu, logvar):\n",
    "    '''\n",
    "    Compute the KL divergence loss.\n",
    "    Args:\n",
    "        mu: torch.Tensor: The mean of the latent space.\n",
    "        logvar: torch.Tensor: The log variance of the latent space.\n",
    "    Returns:\n",
    "        torch.Tensor: The KL divergence loss.\n",
    "    '''\n",
    "    return (0.5 * torch.sum(torch.exp(logvar) + mu ** 2 - 1 - logvar, dim = 1)).mean()\n",
    "\n",
    "def vae_loss(X, X_hat, mu, logvar, kl_weight=0.01):\n",
    "    '''\n",
    "    Compute the VAE loss.\n",
    "    Args:\n",
    "        X: torch.Tensor: The input features.\n",
    "        X_hat: torch.Tensor: The reconstructed features.\n",
    "        mu: torch.Tensor: The mean of the latent space.\n",
    "        logvar: torch.Tensor: The log variance of the latent space.\n",
    "    Returns:\n",
    "        torch.Tensor: The VAE loss.\n",
    "    '''\n",
    "    return nn.MSELoss()(X, X_hat) + kl_weight*kl_loss(mu, logvar)\n",
    "\n",
    "@torch.no_grad()\n",
    "def sample_vae(vae, n_samples=16):\n",
    "    '''\n",
    "    Sample from a VAE.\n",
    "    Args:\n",
    "        vae: VariationalAutoEncoder: The VAE to sample from.\n",
    "        n_samples: int: The number of samples to generate.\n",
    "    Returns:\n",
    "        torch.Tensor: The generated samples.\n",
    "    '''\n",
    "    vae.eval()\n",
    "    z = torch.randn(n_samples, vae.latent_dim)\n",
    "    samples = vae.decoder(z)\n",
    "    return samples\n",
    "\n",
    "def train_vae(vae, dataloader, epochs=10, lr=0.001):\n",
    "    '''\n",
    "    Train a VAE.\n",
    "    Args:\n",
    "        vae: VariationalAutoEncoder: The VAE to train.\n",
    "        dataloader: DataLoader: The DataLoader for the dataset.\n",
    "        epochs: int: The number of epochs to train for.\n",
    "        lr: float: The learning rate to use.\n",
    "    '''\n",
    "    optimizer = torch.optim.Adam(vae.parameters(), lr=lr)\n",
    "    for epoch in trange(epochs):\n",
    "        for X, _ in dataloader:\n",
    "            optimizer.zero_grad()\n",
    "            X_hat, mu, logvar = vae(X)\n",
    "            loss = vae_loss(X, X_hat, mu, logvar, kl_weight=0.01)\n",
    "            loss.backward()\n",
    "            optimizer.step()\n",
    "        print(f'Epoch {epoch+1}/{epochs}, Loss: {loss.item()}')\n",
    "\n",
    "# Create the VAE and train it.\n",
    "vae = VariationalAutoEncoder(latent_dim=16)\n",
    "train_vae(vae, dataset)"
   ]
  },
  {
   "cell_type": "code",
   "execution_count": 47,
   "metadata": {},
   "outputs": [
    {
     "data": {
      "image/png": "[encoded data removed]",
      "text/plain": [
       "<Figure size 600x600 with 1 Axes>"
      ]
     },
     "metadata": {},
     "output_type": "display_data"
    },
    {
     "ename": "",
     "evalue": "",
     "output_type": "error",
     "traceback": [
      "\u001b[1;31mThe Kernel crashed while executing code in the current cell or a previous cell. \n",
      "\u001b[1;31mPlease review the code in the cell(s) to identify a possible cause of the failure. \n",
      "\u001b[1;31mClick <a href='https://aka.ms/vscodeJupyterKernelCrash'>here</a> for more info. \n",
      "\u001b[1;31mView Jupyter <a href='command:jupyter.viewOutput'>log</a> for further details."
     ]
    }
   ],
   "source": [
    "samples = sample_vae(vae)\n",
    "fig = plt.figure(figsize=(6, 6))\n",
    "plot_dataset(samples, title='Samples from the VAE')"
   ]
  }
 ],
 "metadata": {
  "kernelspec": {
   "display_name": ".venv",
   "language": "python",
   "name": "python3"
  },
  "language_info": {
   "codemirror_mode": {
    "name": "ipython",
    "version": 3
   },
   "file_extension": ".py",
   "mimetype": "text/x-python",
   "name": "python",
   "nbconvert_exporter": "python",
   "pygments_lexer": "ipython3",
   "version": "3.9.19"
  }
 },
 "nbformat": 4,
 "nbformat_minor": 2
}
